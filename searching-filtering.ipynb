{
 "cells": [
  {
   "cell_type": "markdown",
   "metadata": {},
   "source": [
    "# Searching and Filtering"
   ]
  },
  {
   "cell_type": "code",
   "execution_count": 16,
   "metadata": {},
   "outputs": [],
   "source": [
    "# we will use dummy2.html\n",
    "from bs4 import BeautifulSoup\n",
    "import re"
   ]
  },
  {
   "cell_type": "code",
   "execution_count": 5,
   "metadata": {},
   "outputs": [
    {
     "name": "stdout",
     "output_type": "stream",
     "text": [
      "<option selected=\"\" value=\"new value\">Course type*</option>\n"
     ]
    },
    {
     "data": {
      "text/plain": [
       "{'value': 'new value', 'selected': '', 'color': 'blue'}"
      ]
     },
     "execution_count": 5,
     "metadata": {},
     "output_type": "execute_result"
    }
   ],
   "source": [
    "with open(\"dummy2.html\", \"r\") as f:\n",
    "    doc = BeautifulSoup(f, \"html.parser\")\n",
    "\n",
    "# changing attributes\n",
    "tag = doc.find('option')\n",
    "tag['value'] = 'new value'\n",
    "print(tag)\n",
    "\n",
    "tag['color'] = 'blue' \n",
    "\n",
    "# print attributes\n",
    "tag.attrs"
   ]
  },
  {
   "cell_type": "code",
   "execution_count": 6,
   "metadata": {},
   "outputs": [
    {
     "name": "stdout",
     "output_type": "stream",
     "text": [
      "[<div class=\"main-block\">\n",
      "<div class=\"left-part\">\n",
      "<i class=\"fas fa-graduation-cap\"></i>\n",
      "<h1>Register to our courses</h1>\n",
      "<p>W3docs provides free learning materials for programming languages like HTML, CSS, Java Script, PHP etc.</p>\n",
      "<div class=\"btn-group\">\n",
      "<a class=\"btn-item\" href=\"https://www.w3docs.com/learn-html.html\">Learn HTML</a>\n",
      "<a class=\"btn-item\" href=\"https://www.w3docs.com/quiz/#\">Select Quiz</a>\n",
      "</div>\n",
      "        $2345\n",
      "      </div>\n",
      "<form action=\"/\">\n",
      "<div class=\"title\">\n",
      "<i class=\"fas fa-pencil-alt\"></i>\n",
      "<h2>Register here</h2>\n",
      "</div>\n",
      "        $123\n",
      "        <div class=\"info\">\n",
      "<input class=\"fname\" name=\"name\" placeholder=\"Full name\" type=\"text\"/>\n",
      "<input name=\"name\" placeholder=\"Email\" type=\"text\"/>\n",
      "<input name=\"name\" placeholder=\"Phone number\" type=\"text\"/>\n",
      "<input name=\"name\" placeholder=\"Password\" type=\"password\"/>\n",
      "<select>\n",
      "<option color=\"blue\" selected=\"\" value=\"new value\">Course type*</option>\n",
      "<option value=\"short-courses\">Short courses</option>\n",
      "<option value=\"featured-courses\">Featured courses</option>\n",
      "<option value=\"undergraduate\">Undergraduate</option>\n",
      "<option value=\"diploma\">Diploma</option>\n",
      "<option value=\"certificate\">Certificate</option>\n",
      "<option value=\"masters-degree\">Masters degree</option>\n",
      "<option value=\"postgraduate\">Postgraduate</option>\n",
      "</select>\n",
      "</div>\n",
      "<div class=\"checkbox\">\n",
      "<input name=\"checkbox\" type=\"checkbox\"/><span>I agree to the <a href=\"https://www.w3docs.com/privacy-policy\">Privacy Poalicy for W3Docs.</a></span>\n",
      "</div>\n",
      "<button href=\"/\" type=\"submit\">Submit</button>\n",
      "</form>\n",
      "</div>, <div class=\"left-part\">\n",
      "<i class=\"fas fa-graduation-cap\"></i>\n",
      "<h1>Register to our courses</h1>\n",
      "<p>W3docs provides free learning materials for programming languages like HTML, CSS, Java Script, PHP etc.</p>\n",
      "<div class=\"btn-group\">\n",
      "<a class=\"btn-item\" href=\"https://www.w3docs.com/learn-html.html\">Learn HTML</a>\n",
      "<a class=\"btn-item\" href=\"https://www.w3docs.com/quiz/#\">Select Quiz</a>\n",
      "</div>\n",
      "        $2345\n",
      "      </div>, <p>W3docs provides free learning materials for programming languages like HTML, CSS, Java Script, PHP etc.</p>, <div class=\"btn-group\">\n",
      "<a class=\"btn-item\" href=\"https://www.w3docs.com/learn-html.html\">Learn HTML</a>\n",
      "<a class=\"btn-item\" href=\"https://www.w3docs.com/quiz/#\">Select Quiz</a>\n",
      "</div>, <div class=\"title\">\n",
      "<i class=\"fas fa-pencil-alt\"></i>\n",
      "<h2>Register here</h2>\n",
      "</div>, <div class=\"info\">\n",
      "<input class=\"fname\" name=\"name\" placeholder=\"Full name\" type=\"text\"/>\n",
      "<input name=\"name\" placeholder=\"Email\" type=\"text\"/>\n",
      "<input name=\"name\" placeholder=\"Phone number\" type=\"text\"/>\n",
      "<input name=\"name\" placeholder=\"Password\" type=\"password\"/>\n",
      "<select>\n",
      "<option color=\"blue\" selected=\"\" value=\"new value\">Course type*</option>\n",
      "<option value=\"short-courses\">Short courses</option>\n",
      "<option value=\"featured-courses\">Featured courses</option>\n",
      "<option value=\"undergraduate\">Undergraduate</option>\n",
      "<option value=\"diploma\">Diploma</option>\n",
      "<option value=\"certificate\">Certificate</option>\n",
      "<option value=\"masters-degree\">Masters degree</option>\n",
      "<option value=\"postgraduate\">Postgraduate</option>\n",
      "</select>\n",
      "</div>, <div class=\"checkbox\">\n",
      "<input name=\"checkbox\" type=\"checkbox\"/><span>I agree to the <a href=\"https://www.w3docs.com/privacy-policy\">Privacy Poalicy for W3Docs.</a></span>\n",
      "</div>]\n"
     ]
    }
   ],
   "source": [
    "# finding multiple tags\n",
    "tags = doc.find_all([\"p\", \"div\", \"li\"])\n",
    "print(tags)"
   ]
  },
  {
   "cell_type": "code",
   "execution_count": 10,
   "metadata": {},
   "outputs": [
    {
     "name": "stdout",
     "output_type": "stream",
     "text": [
      "[<option value=\"undergraduate\">Undergraduate</option>]\n"
     ]
    }
   ],
   "source": [
    "tags = doc.find_all(['option'], text='Undergraduate', value='undergraduate')\n",
    "print(tags) # looking for a tag with a sepcific text inside of it or specific value"
   ]
  },
  {
   "cell_type": "markdown",
   "metadata": {},
   "source": [
    "mutliple tag names go in a list, and to find other attributes put their names in the find_all"
   ]
  },
  {
   "cell_type": "code",
   "execution_count": 12,
   "metadata": {},
   "outputs": [
    {
     "name": "stdout",
     "output_type": "stream",
     "text": [
      "[<a class=\"btn-item\" href=\"https://www.w3docs.com/learn-html.html\">Learn HTML</a>, <a class=\"btn-item\" href=\"https://www.w3docs.com/quiz/#\">Select Quiz</a>]\n"
     ]
    }
   ],
   "source": [
    "# looking for different class names\n",
    "tags = doc.find_all(class_ = \"btn-item\") # class is a reserved keyword\n",
    "print(tags) "
   ]
  },
  {
   "cell_type": "code",
   "execution_count": 23,
   "metadata": {},
   "outputs": [
    {
     "name": "stdout",
     "output_type": "stream",
     "text": [
      "['$2345']\n"
     ]
    }
   ],
   "source": [
    "# Using regular expression\n",
    "# suppose we want to find something after a dollar sign?\n",
    "tags = doc.find_all(text=re.compile(\"\\$.*\"), limit=1) # limit limits number of results\n",
    "tags = list(map(lambda x: x.strip(), tags))\n",
    "print(tags)"
   ]
  },
  {
   "cell_type": "code",
   "execution_count": 24,
   "metadata": {},
   "outputs": [],
   "source": [
    "# save modifications to file\n",
    "tags = doc.find_all('input', type='text')\n",
    "for tag in tags:\n",
    "    tag['placeholder'] = \"I changed you\"\n",
    "\n",
    "with open(\"changed.html\", 'w') as file:\n",
    "    file.write(str(doc))"
   ]
  }
 ],
 "metadata": {
  "kernelspec": {
   "display_name": "Python 3.10.1 64-bit",
   "language": "python",
   "name": "python3"
  },
  "language_info": {
   "codemirror_mode": {
    "name": "ipython",
    "version": 3
   },
   "file_extension": ".py",
   "mimetype": "text/x-python",
   "name": "python",
   "nbconvert_exporter": "python",
   "pygments_lexer": "ipython3",
   "version": "3.10.1"
  },
  "orig_nbformat": 4,
  "vscode": {
   "interpreter": {
    "hash": "26de051ba29f2982a8de78e945f0abaf191376122a1563185a90213a26c5da77"
   }
  }
 },
 "nbformat": 4,
 "nbformat_minor": 2
}
